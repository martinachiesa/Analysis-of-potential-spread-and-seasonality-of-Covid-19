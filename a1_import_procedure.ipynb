{
 "cells": [
  {
   "cell_type": "markdown",
   "id": "22fda647",
   "metadata": {},
   "source": [
    "<h2><center> MACHINE LEARNING PROJECT - N. 6 </center></h2>"
   ]
  },
  {
   "cell_type": "markdown",
   "id": "0626df99",
   "metadata": {},
   "source": [
    "<h3><center> Subscript nr. 1 - Import procedure </center></h3>"
   ]
  },
  {
   "cell_type": "markdown",
   "id": "91bb9083",
   "metadata": {},
   "source": [
    "This notebook contains preprocessing code, which is relevant for the creation of the dataframe used in analysis."
   ]
  },
  {
   "cell_type": "markdown",
   "id": "af3c37f3",
   "metadata": {},
   "source": [
    "### Setting path"
   ]
  },
  {
   "cell_type": "code",
   "execution_count": 1,
   "id": "14256ad3",
   "metadata": {},
   "outputs": [],
   "source": [
    "%run libraries.ipynb"
   ]
  },
  {
   "cell_type": "code",
   "execution_count": 2,
   "id": "fc07c44e",
   "metadata": {},
   "outputs": [],
   "source": [
    "delimiter = \"\\\\\" # for windows\n",
    "#delimiter = \"/\"  # for os system\n",
    "\n",
    "path_raw = \"..\" + delimiter + 'results'"
   ]
  },
  {
   "cell_type": "markdown",
   "id": "2435dd04",
   "metadata": {},
   "source": [
    "### Loading covid and geographical data"
   ]
  },
  {
   "cell_type": "code",
   "execution_count": 3,
   "id": "2deb654e",
   "metadata": {},
   "outputs": [],
   "source": [
    "covid_path = \"..\" + delimiter + 'results' + delimiter + \"covid.xlsx\"\n",
    "covid_info = pd.read_excel(covid_path)\n",
    "\n",
    "covid_cols = list(covid_info.columns)\n",
    "covid_info = covid_info.rename( columns = {\n",
    "                covid_cols[-3]: 'Collect',\n",
    "                covid_cols[-2]: 'Death',\n",
    "                covid_cols[-1]: 'Cases' } )\n",
    "\n",
    "geo_path = \"..\" + delimiter + 'results' + delimiter + \"geo_info.csv\"\n",
    "geo_info = pd.read_csv(geo_path)\n",
    "geo_info = geo_info.rename(columns = {\"city\":'City'})"
   ]
  },
  {
   "cell_type": "markdown",
   "id": "d2e839f3",
   "metadata": {},
   "source": [
    "### Lists initialization"
   ]
  },
  {
   "cell_type": "markdown",
   "id": "35c4a11a",
   "metadata": {},
   "source": [
    "Each element of lists is the mean of the variable for a city in a range from twenty to thirty days before first death."
   ]
  },
  {
   "cell_type": "code",
   "execution_count": 4,
   "id": "c5917e8d",
   "metadata": {},
   "outputs": [],
   "source": [
    "listmean_t2m = []\n",
    "listmean_rh = []\n",
    "listmean_ah = []\n",
    "listmean_q = []"
   ]
  },
  {
   "cell_type": "markdown",
   "id": "6f7abd15",
   "metadata": {},
   "source": [
    "Creation of two lists containing respectively cities and countries names."
   ]
  },
  {
   "cell_type": "code",
   "execution_count": 5,
   "id": "6507b09b",
   "metadata": {},
   "outputs": [],
   "source": [
    "city_list = np.array(covid_info[\"City\"]).tolist()\n",
    "country_list = np.array(covid_info[\"Country\"]).tolist()"
   ]
  },
  {
   "cell_type": "markdown",
   "id": "e6be0b57",
   "metadata": {},
   "source": [
    "### Storing means of weather variables"
   ]
  },
  {
   "cell_type": "code",
   "execution_count": 6,
   "id": "de395671",
   "metadata": {},
   "outputs": [],
   "source": [
    "%run new_variable_function.ipynb"
   ]
  },
  {
   "cell_type": "markdown",
   "id": "971ea5e6",
   "metadata": {},
   "source": [
    "Loop that allows to cut the data by time periods and adding means to its list."
   ]
  },
  {
   "cell_type": "code",
   "execution_count": 7,
   "id": "54e41e55",
   "metadata": {},
   "outputs": [],
   "source": [
    "for city in city_list:\n",
    "    df = pd.read_csv(path_raw + delimiter + city + \".csv\")\n",
    "    \n",
    "    index_collect = covid_info.index[covid_info[\"City\"] == city].to_list()\n",
    "    collect_date = covid_info[\"Collect\"][index_collect] # extract date of data collection to subset\n",
    "    \n",
    "    start_date = collect_date - datetime.timedelta(days = 30)\n",
    "    start_date = start_date.astype(str).to_list()[0]\n",
    "    end_date = collect_date - datetime.timedelta(days = 20)\n",
    "    end_date = end_date.astype(str).to_list()[0]\n",
    "    \n",
    "    df[[\"Date\",\"Hour\"]] = df.date.str.split(\" \", expand = True) # True is to return dataframe\n",
    "    df[\"Date\"] = df[\"Date\"].astype(str)\n",
    "    \n",
    "    index_start = df.index[df[\"Date\"] == start_date].to_list()[0] # consider 00:00\n",
    "    index_end = df.index[df[\"Date\"] == end_date].to_list()[-1] # consider 23:00\n",
    "    \n",
    "    df = df[(index_start+1):(index_end+1)] # subset dataframe\n",
    "    df = add_vars(df)\n",
    "    \n",
    "    listmean_t2m.append(np.mean(df[\"t2m\"]))\n",
    "    listmean_rh.append(np.mean(df[\"RH\"]))\n",
    "    listmean_ah.append(np.mean(df[\"AH\"]))\n",
    "    listmean_q.append(np.mean(df[\"Q\"]))"
   ]
  },
  {
   "cell_type": "markdown",
   "id": "e0a640e9",
   "metadata": {},
   "source": [
    "### Final dataset"
   ]
  },
  {
   "cell_type": "markdown",
   "id": "b843a26e",
   "metadata": {},
   "source": [
    "Creation of a dataframe, through a temporary dictionary for each row."
   ]
  },
  {
   "cell_type": "code",
   "execution_count": 8,
   "id": "558e3f76",
   "metadata": {},
   "outputs": [],
   "source": [
    "list_dicts = []\n",
    "\n",
    "for i in range(len(city_list)):\n",
    "    row_temp_dict = { 'City' : city_list[i],\n",
    "                      'Country' : country_list[i],\n",
    "                      'Latitude' : geo_info.iloc[i]['lat'],\n",
    "                      'TempCels' : round( listmean_t2m[i] , 5 ) - 273.15, # Convert Kelvin to Celsius\n",
    "                      'SpecHum' : round( listmean_q[i], 5),\n",
    "                      'RelHum' : round( listmean_rh[i] , 5 ),\n",
    "                      'AbsHum' : round( listmean_ah[i] , 5) }\n",
    "    \n",
    "    list_dicts.append(row_temp_dict)\n",
    "\n",
    "\n",
    "df_converted = pd.DataFrame.from_dict(list_dicts, orient = 'columns') # keys of dicts are cols"
   ]
  },
  {
   "cell_type": "markdown",
   "id": "acbc5184",
   "metadata": {},
   "source": [
    "The dataset containing weather variables and the one containing Covid-19 cases and deaths are merged. The resulting dataset is stored in the <i>results</i> folder."
   ]
  },
  {
   "cell_type": "code",
   "execution_count": 9,
   "id": "c49ed380",
   "metadata": {},
   "outputs": [],
   "source": [
    "new_df = pd.merge(df_converted, covid_info, on = [\"City\",\"Country\"], how = 'inner')\n",
    "new_df.to_excel(path_raw + delimiter + \"final_dataset.xlsx\", index = False)"
   ]
  }
 ],
 "metadata": {
  "kernelspec": {
   "display_name": "Python 3 (ipykernel)",
   "language": "python",
   "name": "python3"
  },
  "language_info": {
   "codemirror_mode": {
    "name": "ipython",
    "version": 3
   },
   "file_extension": ".py",
   "mimetype": "text/x-python",
   "name": "python",
   "nbconvert_exporter": "python",
   "pygments_lexer": "ipython3",
   "version": "3.9.7"
  }
 },
 "nbformat": 4,
 "nbformat_minor": 5
}
