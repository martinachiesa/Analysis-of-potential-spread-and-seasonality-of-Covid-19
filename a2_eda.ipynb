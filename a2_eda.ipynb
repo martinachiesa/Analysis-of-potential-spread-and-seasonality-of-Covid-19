{
 "cells": [
  {
   "cell_type": "markdown",
   "id": "937e8e77",
   "metadata": {},
   "source": [
    "<h2><center> MACHINE LEARNING PROJECT - N. 6 </center></h2>"
   ]
  },
  {
   "cell_type": "markdown",
   "id": "bafeb895",
   "metadata": {},
   "source": [
    "<h3><center> Subscript nr. 2 - Exploratory Data Analysis </center></h3>"
   ]
  },
  {
   "cell_type": "markdown",
   "id": "15ad9f76",
   "metadata": {},
   "source": [
    "This notebook contains different types of analysis to explore data: correlations, histograms, variable relevance, time series."
   ]
  },
  {
   "cell_type": "markdown",
   "id": "73ae4f8c",
   "metadata": {},
   "source": [
    "Both <i>matplotlib</i> and <i>seaborn</i> libraries allow the creation of data visualization's tools."
   ]
  },
  {
   "cell_type": "markdown",
   "id": "fef71bd3",
   "metadata": {},
   "source": [
    "### Correlation matrix"
   ]
  },
  {
   "cell_type": "code",
   "execution_count": 1,
   "id": "42d1fddb",
   "metadata": {},
   "outputs": [],
   "source": [
    "def corr_mat(new_df, dict_font):\n",
    "    plt.rcParams['figure.dpi'] = dict_font[\"fig_dpi\"]\n",
    "    plt.rcParams['figure.figsize'] = dict_font[\"fig_size\"]\n",
    "\n",
    "    sns.set(font_scale = 1.2)\n",
    "    sns.set_style(\"white\")\n",
    "    \n",
    "    # np.triu: upper triangle of an array\n",
    "    # np.ones_like: array of ones with same shape and type\n",
    "    # mask: data will not be shown in cells where mask is True\n",
    "    mask = np.triu(np.ones_like(new_df.corr(), dtype=bool)) \n",
    "    sns.heatmap(new_df.corr(), vmin = -1, vmax = 1, center = 0, cmap = \"PiYG\", square = True, \n",
    "                mask = mask, annot = True, annot_kws = {\"size\" : dict_font[\"font_txt\"]})\n",
    "\n",
    "    return plt.show()"
   ]
  },
  {
   "cell_type": "markdown",
   "id": "47fd52f5",
   "metadata": {},
   "source": [
    "### Correlation plot"
   ]
  },
  {
   "cell_type": "code",
   "execution_count": 2,
   "id": "cc492ffb",
   "metadata": {},
   "outputs": [],
   "source": [
    "def corr_sub(new_df, dict_font):\n",
    "    plt.rcParams['figure.dpi'] = dict_font[\"fig_dpi\"]\n",
    "    plt.rcParams['figure.figsize'] = dict_font[\"fig_size\"]\n",
    "\n",
    "    corr_df = new_df[[\"Latitude\", \"TempCels\", \"SpecHum\", \"RelHum\", \"AbsHum\", \"Substantial\"]] \n",
    "\n",
    "    pair = sns.pairplot(corr_df, kind = \"scatter\", diag_kind = \"kde\", hue = \"Substantial\", \n",
    "                        markers = [\"o\", \"D\"], palette = \"Set2\", corner = True)\n",
    "    pair._legend.remove()\n",
    "    plt.legend(['Substantial', 'Not substantial'], bbox_to_anchor=(-2.5, 5))\n",
    "    return plt.show()"
   ]
  },
  {
   "cell_type": "markdown",
   "id": "26a0b34d",
   "metadata": {},
   "source": [
    "### Log cases histogram"
   ]
  },
  {
   "cell_type": "code",
   "execution_count": 3,
   "id": "9e667986",
   "metadata": {},
   "outputs": [],
   "source": [
    "def hist_cases(my_var, new_df, dict_font):\n",
    "    plt.rcParams['figure.dpi'] = dict_font[\"fig_dpi\"]\n",
    "    plt.rcParams['figure.figsize'] = dict_font[\"fig_size\"]\n",
    "\n",
    "    plt.hist(x = my_var, bins = 'auto', color = 'lightgreen', alpha = 0.8, rwidth = 0.85, density = True)\n",
    "    plt.grid(axis='y', alpha = 0.2)\n",
    "    plt.grid(axis='x', alpha = 0.2)\n",
    "    plt.xlabel(\"$ \\ln(Cases) $\", fontsize = dict_font[\"font_xy\"])\n",
    "    plt.ylabel('Density', fontsize = dict_font[\"font_xy\"])\n",
    "    plt.xticks(fontsize = dict_font[\"font_txt\"])\n",
    "    plt.yticks(fontsize = dict_font[\"font_txt\"])\n",
    "    plt.title('Histogram of Log of Cases', fontsize = dict_font[\"font_title\"])\n",
    "    \n",
    "    plt.text(7, 0.12, \"mean: \" + str(round( np.mean(my_var), 2 ) ), fontsize = dict_font[\"font_txt\"])\n",
    "    plt.text(7, 0.11, \"std: \" + str(round( np.std(my_var), 2 ) ), fontsize = dict_font[\"font_txt\"])\n",
    "    plt.text(7, 0.10, \"skew of log: \" + str(round( stats.skew(my_var), 2 )), \n",
    "             fontsize = dict_font[\"font_txt\"], color = \"green\")\n",
    "    plt.text(7, 0.09, \"skew of original data: \" + str(round( stats.skew(new_df[\"Cases\"]), 2 ) ), \n",
    "             fontsize = dict_font[\"font_txt\"], color = \"red\")\n",
    "\n",
    "    mu, std = np.mean(np.array(my_var)), np.std(np.array(my_var))\n",
    "    xmin, xmax = np.amin(np.array(my_var)), np.amax(np.array(my_var))\n",
    "    x_values = np.linspace(xmin, xmax, 250) #return 250 evenly spaced numbers over the interval\n",
    "    probs = stats.norm.pdf(x_values, mu, std) \n",
    "    plt.plot(x_values, probs, linewidth = 2, c = \"blue\", linestyle='dashed')\n",
    "\n",
    "    return plt.show()"
   ]
  },
  {
   "cell_type": "markdown",
   "id": "aaf4f70b",
   "metadata": {},
   "source": [
    "### Log deaths histogram"
   ]
  },
  {
   "cell_type": "code",
   "execution_count": 4,
   "id": "7660bbcb",
   "metadata": {},
   "outputs": [],
   "source": [
    "def hist_death(my_var, new_df, dict_font):\n",
    "    plt.hist(x = my_var, bins = 'auto', color = 'sandybrown', alpha = 0.8, rwidth = 0.85, density = True)\n",
    "    plt.grid(axis='y', alpha = 0.2)\n",
    "    plt.grid(axis='x', alpha = 0.2)\n",
    "    plt.xlabel(\"$ \\ln(Death) $\", fontsize = dict_font[\"font_xy\"])\n",
    "    plt.ylabel('Density', fontsize = dict_font[\"font_xy\"])\n",
    "    plt.xticks(fontsize = dict_font[\"font_txt\"])\n",
    "    plt.yticks(fontsize = dict_font[\"font_txt\"])\n",
    "    plt.title('Histogram of Log of Death', fontsize = dict_font[\"font_title\"])\n",
    "    \n",
    "    plt.text(4.5, 1.7, \"mean: \" + str(round( np.mean(my_var), 2 ) ), fontsize = dict_font[\"font_txt\"])\n",
    "    plt.text(4.5, 1.6, \"std: \" + str(round( np.std(my_var), 2 ) ), fontsize = dict_font[\"font_txt\"])\n",
    "    plt.text(4.5, 1.5, \"skew of log: \" + str(round( stats.skew(my_var), 2 ) ), \n",
    "             fontsize = dict_font[\"font_txt\"], color = \"darkorange\")\n",
    "    plt.text(4.5, 1.4, \"skew of original: \" + str(round( stats.skew(new_df[\"Death\"]), 2 ) ), \n",
    "             fontsize = dict_font[\"font_txt\"], color = \"red\")\n",
    "\n",
    "    prop = new_df[\"Death\"][new_df[\"Death\"]==0].count() / new_df[\"Death\"].count()\n",
    "    plt.arrow(x = 4.4, y = 1.3, dx= -4.5, dy = 0.45, width = .03, alpha = 0.3) \n",
    "    plt.text(4.5, 1.2, \"66% of countries \\nhave 0 deaths\", fontsize = dict_font[\"font_txt\"], color = \"lightseagreen\")\n",
    "\n",
    "    mu, std = np.mean(np.array(my_var)), np.std(np.array(my_var))\n",
    "    xmin, xmax = np.amin(np.array(my_var)), np.amax(np.array(my_var))\n",
    "    x_values = np.linspace(xmin, xmax, 250)\n",
    "    probs = stats.norm.pdf(x_values, mu, std)\n",
    "    plt.plot(x_values, probs, linewidth=2, c = \"blue\", linestyle='dashed')\n",
    "    \n",
    "    return plt.show()"
   ]
  },
  {
   "cell_type": "markdown",
   "id": "296545c5",
   "metadata": {},
   "source": [
    "### Regression Tree without hold-out"
   ]
  },
  {
   "cell_type": "code",
   "execution_count": 5,
   "id": "673a680a",
   "metadata": {},
   "outputs": [],
   "source": [
    "def tree1(new_df, clf, dict_font):\n",
    "    x_reg = new_df[[\"Latitude\", \"TempCels\", \"SpecHum\",\"RelHum\", \"AbsHum\"]]\n",
    "    y = np.array(new_df[\"Cases\"])\n",
    "    clf = clf.fit(x_reg, y)\n",
    "    y_hat = clf.predict(x_reg)\n",
    "\n",
    "    print(\"MSE: \", round( metrics.mean_squared_error(y, y_hat) , 3))\n",
    "    print(\"MAPE: \", round( metrics.mean_absolute_percentage_error(y, y_hat) , 3))\n",
    "    print(\"MAE: \", round( metrics.median_absolute_error(y, y_hat) , 3))\n",
    "    print(\"Mean and median are different (asymmetric distribution). \\nThus also the error measures are significantly different.\")\n",
    "    print(\"Color of the leaf corresponds to the predicted value\")\n",
    "\n",
    "    plt.rcParams['figure.dpi'] = dict_font[\"fig_dpi\"] * 1.5\n",
    "    fig = plt.figure(figsize = np.array(dict_font[\"fig_size\"]) * [2,1.5])\n",
    "    t = tree.plot_tree(clf, filled = True, feature_names = x_reg.columns.to_list(), \n",
    "                       rounded = True, proportion = True)\n",
    "    \n",
    "    return"
   ]
  },
  {
   "cell_type": "markdown",
   "id": "09a36eb5",
   "metadata": {},
   "source": [
    "### Regression Tree with hold-out"
   ]
  },
  {
   "cell_type": "code",
   "execution_count": 6,
   "id": "37bed6cb",
   "metadata": {},
   "outputs": [],
   "source": [
    "def tree2(new_df, clf, dict_font):\n",
    "    X_train, X_test, y_train, y_test = train_test_split(new_df[[\"Latitude\", \"TempCels\", \"SpecHum\", \"RelHum\", \"AbsHum\"]], \n",
    "                                                        new_df[\"Cases\"], test_size=0.2, random_state=1) \n",
    "    clf = clf.fit(X_train, y_train)\n",
    "    y_pred = clf.predict(X_test)\n",
    "\n",
    "    print(\"Test MSE: \", round( metrics.mean_squared_error(y_test, y_pred) , 3))\n",
    "    print(\"Test MAPE: \", round( metrics.mean_absolute_percentage_error(y_test, y_pred) , 3))\n",
    "    print(\"Test MAE: \", round( metrics.median_absolute_error(y_test, y_pred) , 3))\n",
    "    print(\"Unusual behavior: MSE is higher when using same train and test.\")\n",
    "\n",
    "    plt.rcParams['figure.dpi'] = dict_font[\"fig_dpi\"] * 1.5\n",
    "    fig = plt.figure(figsize = np.array(dict_font[\"fig_size\"]) * [2,1.5])\n",
    "    t = tree.plot_tree(clf, filled = True, feature_names = X_train.columns.to_list(), \n",
    "                       rounded = True, proportion = False)\n",
    "    \n",
    "    return"
   ]
  },
  {
   "cell_type": "markdown",
   "id": "277c7cd3",
   "metadata": {},
   "source": [
    "### Time series"
   ]
  },
  {
   "cell_type": "markdown",
   "id": "0829652b",
   "metadata": {},
   "source": [
    "Before calling this function is necessary to specify a city name and a variable name.\n",
    "If the names insert are not plausible the function outputs a warning error message.\n",
    "\n",
    "Moreover, since temperature variables in the original <i>csv</i> files are in Kelvin, they are transformed to Celsius.\n",
    "\n",
    "Adding 3 lines to the graph in correspondence to relevant days."
   ]
  },
  {
   "cell_type": "code",
   "execution_count": 7,
   "id": "7e2b9f78",
   "metadata": {},
   "outputs": [],
   "source": [
    "def my_plot_ts(city, var, sub_df, opts, scale = 1):\n",
    "    if var not in opts[\"Var\"].to_list():\n",
    "        print(\"Please insert one var in: \", ', '.join(opts[\"Var\"].to_list()))\n",
    "    elif city not in sub_df[\"City\"].to_list():\n",
    "        print(\"Please insert one city in: \", \", \".join(list(sub_df[\"City\"])))\n",
    "    else:\n",
    "        df = pd.read_csv(path_raw + delimiter + city + \".csv\")\n",
    "        df[['date','hour']] = df.date.str.split(\" \", expand=True)\n",
    "        df = df.drop(\"hour\", axis = 1) # axis 1 is column\n",
    "        df['date'] = pd.to_datetime(df['date'])\n",
    "        df = df.set_index('date')\n",
    "        \n",
    "        means = df.groupby('date').mean()\n",
    "        series = means[var]\n",
    "        if var in [\"t2m\", \"d2m\"]: \n",
    "            series = series - 273.15\n",
    "            \n",
    "        # strftime converts datetime to string, strptime converts string to datetime\n",
    "        last_day_collection = datetime.datetime.strftime(max(sub_df[\"Collect\"]), format = \"%Y-%m-%d\")\n",
    "        series = series[\"2019-11-01\":last_day_collection]\n",
    "\n",
    "        first_death = sub_df[\"Collect\"].loc[sub_df[\"City\"]==city]\n",
    "        #first_death_string = first_death.astype(str).to_list()[0]\n",
    "        \n",
    "        plt.plot(series, color = \"black\")\n",
    "        \n",
    "        plt.axvline(x = first_death, color = \"red\", label = \"First\")\n",
    "        plt.axvline(x = (first_death - datetime.timedelta(20)), color = \"black\", \n",
    "                    linestyle = '--', label = \"20 days before\")\n",
    "        plt.axvline(x = (first_death - datetime.timedelta(30)), color = \"black\", \n",
    "                    linestyle = 'dotted', label = \"30 days before\")\n",
    "        lgd = plt.legend(loc = 'best', fontsize = dict_font[\"font_txt\"] * scale)\n",
    "        lgd.set_title(title = 'Deaths', prop = {'size': dict_font[\"font_title\"] * scale})\n",
    "        \n",
    "        plt.xlabel('Date', fontsize = dict_font[\"font_xy\"] * scale)\n",
    "        plt.xticks(rotation = 'vertical', fontsize = dict_font[\"font_txt\"] * scale)\n",
    "        plt.yticks(fontsize = dict_font[\"font_txt\"] * scale)\n",
    "        \n",
    "        my_title = opts[\"Label\"].loc[opts[\"Var\"] == var].to_list()[0]\n",
    "        plt.title(city + \" \" + my_title + \" from 2019-01-11 to \" + last_day_collection, fontsize = dict_font[\"font_title\"] * scale)\n",
    "\n",
    "        my_ylab = opts[\"Unit\"].loc[opts[\"Var\"] == var].to_list()[0]\n",
    "        plt.ylabel(my_ylab, fontsize = dict_font[\"font_xy\"] * scale)\n",
    "        \n",
    "        return plt.show()"
   ]
  }
 ],
 "metadata": {
  "kernelspec": {
   "display_name": "Python 3 (ipykernel)",
   "language": "python",
   "name": "python3"
  },
  "language_info": {
   "codemirror_mode": {
    "name": "ipython",
    "version": 3
   },
   "file_extension": ".py",
   "mimetype": "text/x-python",
   "name": "python",
   "nbconvert_exporter": "python",
   "pygments_lexer": "ipython3",
   "version": "3.9.7"
  }
 },
 "nbformat": 4,
 "nbformat_minor": 5
}
