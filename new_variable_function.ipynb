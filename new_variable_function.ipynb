{
 "cells": [
  {
   "cell_type": "markdown",
   "id": "8c7a3f81",
   "metadata": {},
   "source": [
    "<h2><center> MACHINE LEARNING PROJECT - N. 6 </center></h2>"
   ]
  },
  {
   "cell_type": "markdown",
   "id": "0ad23d38",
   "metadata": {},
   "source": [
    "This notebook containg a function that computes new weather variables."
   ]
  },
  {
   "cell_type": "markdown",
   "id": "0aeda73f",
   "metadata": {},
   "source": [
    "$$ Es = 6.11 \\cdot 10^ \\left[ \\frac{7.5 \\cdot (T - 273.15)} {237.7+(T-273.15)} \\right] $$\n",
    "\n",
    "$$ E = 6.11 \\cdot 10^ \\left[ \\frac{7.5 \\cdot (DM - 273.15)} {237.7+(DM-273.15)} \\right] $$\n",
    "\n",
    "$$ RH =  \\frac{E}{Es} \\cdot 100  $$\n",
    "\n",
    "$$ AH = 6.11 \\cdot \\exp \\left[ {\\frac{17.67 \\cdot (T-273.15)}{(T-273.15)+243.5}} \\cdot \\frac{RH \\cdot 2.1674}{273.15+(T-273.15)}  \\right] $$\n",
    "\n",
    "$$ Q = \\left[ 0.622 \\cdot \\frac{E}{SP-E} \\right] \\cdot 1000 $$"
   ]
  },
  {
   "cell_type": "code",
   "execution_count": 1,
   "id": "0c48f7f2",
   "metadata": {},
   "outputs": [],
   "source": [
    "def add_vars(df):\n",
    "    df[\"E\"] = 6.11*10.0**(7.5*(df[\"d2m\"]-273.15)/(237.7+(df[\"d2m\"]-273.15))) # saturation vapour pressure\n",
    "    df[\"Es\"] = 6.11*10.0**(7.5*(df[\"t2m\"]-273.15)/(237.7+(df[\"t2m\"]-273.15))) # saturation vapour pressure at the dry air bulb temperature\n",
    "    df[\"RH\"] = 100*(df[\"E\"]/df[\"Es\"])\n",
    "    df[\"AH\"] = 6.11*np.exp( ((17.67*(df[\"t2m\"]-273.15))/(df[\"t2m\"]-273.15+243.5))*((df[\"RH\"]*2.1674)/(273.15+df[\"t2m\"]-273.15)) )\n",
    "    df[\"Q\"] = 0.622 * df[\"E\"]/(df[\"sp\"]-df[\"E\"]) * 1000\n",
    "    return df  "
   ]
  }
 ],
 "metadata": {
  "kernelspec": {
   "display_name": "Python 3 (ipykernel)",
   "language": "python",
   "name": "python3"
  },
  "language_info": {
   "codemirror_mode": {
    "name": "ipython",
    "version": 3
   },
   "file_extension": ".py",
   "mimetype": "text/x-python",
   "name": "python",
   "nbconvert_exporter": "python",
   "pygments_lexer": "ipython3",
   "version": "3.8.8"
  }
 },
 "nbformat": 4,
 "nbformat_minor": 5
}
