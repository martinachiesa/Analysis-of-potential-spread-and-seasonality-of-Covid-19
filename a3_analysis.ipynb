{
 "cells": [
  {
   "cell_type": "markdown",
   "id": "5058b6fb",
   "metadata": {},
   "source": [
    "<h2><center> MACHINE LEARNING PROJECT - N. 6 </center></h2>"
   ]
  },
  {
   "cell_type": "markdown",
   "id": "e2dff8eb",
   "metadata": {},
   "source": [
    "<h3><center> Subscript nr. 3 - Analysis </center></h3>"
   ]
  },
  {
   "cell_type": "markdown",
   "id": "250f89bd",
   "metadata": {},
   "source": [
    "This notebook contains functions to create regression models and scatterplot of features in the dataset."
   ]
  },
  {
   "cell_type": "markdown",
   "id": "a8d1a07f",
   "metadata": {},
   "source": [
    "### Linear Regression of Temperature and ln(Cases)"
   ]
  },
  {
   "cell_type": "markdown",
   "id": "3b46c88f",
   "metadata": {},
   "source": [
    "Both <i>statsmodels</i> and <i>sklearn</i> libraries are used because each has some interesting features.\n",
    "\n",
    "Remember: $ {\\ln(0.5)} \\cong -0.69 $\n",
    "\n",
    "In order to get the estimate of intercept with <i>statsmodels</i>, a column of ones has to be added to the matrix of regressors."
   ]
  },
  {
   "cell_type": "code",
   "execution_count": 1,
   "id": "ac9e6e26",
   "metadata": {},
   "outputs": [],
   "source": [
    "def linearreg_temperature(new_df, dict_font):\n",
    "    x = new_df[\"TempCels\"].copy()\n",
    "    x = np.array(x).reshape((-1,1)) # - 1 means that numpy infers the remaining dimension (50 rows)\n",
    "    \n",
    "    y = new_df[\"Cases\"].copy()\n",
    "    y.loc[y == 0] = 0.5\n",
    "    y = np.array( np.log(y) )\n",
    "\n",
    "    model = LinearRegression().fit(x, y)\n",
    "    print(\"R square: \" + str( round(model.score(x, y), 5)) )\n",
    "    print(\"Intercept: \" + str( round(model.intercept_, 5)) )\n",
    "    print(\"Slope: \" + str( np.round(model.coef_[0], 5)) )\n",
    "\n",
    "    x2 = sm.add_constant(x) # the regressor matrix should have a column of ones to estimate intercept\n",
    "    model2 = sm.OLS(y, x2).fit()\n",
    "    b0, b1 = model2.params\n",
    "    # model2.summary()\n",
    "\n",
    "    plt.rcParams['figure.dpi'] = dict_font[\"fig_dpi\"]\n",
    "    plt.rcParams['figure.figsize'] = dict_font[\"fig_size\"]\n",
    "\n",
    "    fig = plt.figure()\n",
    "    ax = fig.add_subplot()\n",
    "    plt.plot(x, y, 'o', color='dodgerblue', markersize = 4)\n",
    "    plt.title('$\\ln (TotalCase)$ and Temperature', fontsize = dict_font[\"font_title\"])\n",
    "    plt.xlabel('Temperature (Celsius)', fontsize = dict_font[\"font_xy\"])\n",
    "    plt.ylabel('$\\ln (TotalCase)$', fontsize = dict_font[\"font_xy\"])\n",
    "    plt.xticks(fontsize = dict_font[\"font_txt\"])\n",
    "    plt.yticks(fontsize = dict_font[\"font_txt\"])\n",
    "    ax.text(-10, 10, \"F-Stat p-value: \" + str(round( model2.f_pvalue , 5 )), fontsize = dict_font[\"font_txt\"])\n",
    "    ax.text(-10, 11, \"Adj. R square: \" + str(round( model2.rsquared_adj , 5 )), fontsize = dict_font[\"font_txt\"])\n",
    "    \n",
    "    x_vec = np.linspace(min(x), max(x), 10000)\n",
    "    plt.plot(x_vec, b0 + b1*x_vec, color='red', linestyle='-', linewidth=1.5) \n",
    "\n",
    "    return plt.show()"
   ]
  },
  {
   "cell_type": "markdown",
   "id": "8981b04c",
   "metadata": {},
   "source": [
    "### Linear Regression of Relative Humidity and ln(Cases)"
   ]
  },
  {
   "cell_type": "code",
   "execution_count": 2,
   "id": "ad40aea9",
   "metadata": {},
   "outputs": [],
   "source": [
    "def linearreg_hum(new_df, dict_font):\n",
    "    x = new_df[\"RelHum\"].copy()\n",
    "    x = np.array(x).reshape((-1,1)) # - 1 means that numpy infers the remaining dimension (50 rows)\n",
    "\n",
    "    y = new_df[\"Cases\"].copy()\n",
    "    y.loc[y == 0] = 0.5\n",
    "    y = np.array( np.log(y) )\n",
    "\n",
    "    model = LinearRegression().fit(x, y)\n",
    "    print(\"R square: \" + str( round(model.score(x, y), 5)) )\n",
    "    print(\"Intercept: \" + str( round(model.intercept_, 5)) )\n",
    "    print(\"Slope: \" + str( np.round(model.coef_[0], 5)) )\n",
    "\n",
    "    x2 = sm.add_constant(x) # the regressor matrix should have a column of ones, otherwise the intercept isn't estimated\n",
    "    model2 = sm.OLS(y, x2).fit()\n",
    "    b0, b1 = model2.params\n",
    "    # model2.summary()\n",
    "\n",
    "    plt.rcParams['figure.dpi'] = dict_font[\"fig_dpi\"]\n",
    "    plt.rcParams['figure.figsize'] = dict_font[\"fig_size\"]\n",
    "\n",
    "    fig = plt.figure()\n",
    "    ax = fig.add_subplot()\n",
    "    plt.plot(x, y, 'o', color = 'dodgerblue', markersize = 4)\n",
    "    plt.title('$\\ln (TotalCase)$ and Relative Humidity', fontsize = dict_font[\"font_title\"])\n",
    "    plt.xlabel('Relative Humidity (%)', fontsize = dict_font[\"font_xy\"])\n",
    "    plt.ylabel(r'$\\ln (TotalCase)$', fontsize = dict_font[\"font_xy\"])\n",
    "    plt.xticks(fontsize = dict_font[\"font_txt\"])\n",
    "    plt.yticks(fontsize = dict_font[\"font_txt\"])\n",
    "    ax.text(25, 10, \"F-Stat p-value: \" + str(round( model2.f_pvalue , 5 )), fontsize = dict_font[\"font_txt\"])\n",
    "    ax.text(25, 11, \"Adj. R square: \" + str(round( model2.rsquared_adj , 5 )), fontsize = dict_font[\"font_txt\"])\n",
    "\n",
    "    x_vec = np.linspace(min(x), max(x), 10000)\n",
    "    plt.plot(x_vec, b0 + b1*x_vec, color='red', linestyle='-', linewidth=1.5)\n",
    "    \n",
    "    return plt.show()"
   ]
  },
  {
   "cell_type": "markdown",
   "id": "370c1b2a",
   "metadata": {},
   "source": [
    "### Plots of Substantial and Temperature"
   ]
  },
  {
   "cell_type": "markdown",
   "id": "d1093193",
   "metadata": {},
   "source": [
    "Substantial is a dichotomous that assumes value 1 if the observation has register more than 10 deaths due to Covid-19. "
   ]
  },
  {
   "cell_type": "code",
   "execution_count": 3,
   "id": "33efdd21",
   "metadata": {},
   "outputs": [],
   "source": [
    "def plot_sub(new_df, dict_font, scale = 0.65):\n",
    "    x = new_df[\"Substantial\"].copy()\n",
    "    x = np.array(x).reshape((-1,1))\n",
    "    \n",
    "    y = new_df[\"TempCels\"].copy()\n",
    "    y = np.array(y)\n",
    "\n",
    "    model = LinearRegression().fit(x, y)\n",
    "    print(\"R square: \" + str( round(model.score(x, y), 5)) )\n",
    "    print(\"Intercept: \" + str( round(model.intercept_, 5)) )\n",
    "    print(\"Slope: \" + str( np.round(model.coef_[0], 5)) )\n",
    "\n",
    "    x2 = sm.add_constant(x)\n",
    "    model2 = sm.OLS(y, x2).fit()\n",
    "    # model2.summary()\n",
    "\n",
    "    plt.rcParams['figure.dpi'] = dict_font[\"fig_dpi\"] * 1.2\n",
    "    plt.rcParams['figure.figsize'] = np.array(dict_font[\"fig_size\"]) * [1.2,0.8]\n",
    "\n",
    "    plt.subplot(1, 2, 1)\n",
    "    boxp = sns.boxplot(x = \"Substantial\", y = \"TempCels\", hue = \"Substantial\", \n",
    "                       data = new_df, palette = \"muted\")\n",
    "    plt.title(\"Temperature and Substantial Transmision\", fontsize = dict_font[\"font_title\"] * scale)\n",
    "    plt.xlabel('Substantial Transmission', fontsize = dict_font[\"font_xy\"] * scale)\n",
    "    plt.ylabel('Temperature', fontsize = dict_font[\"font_xy\"] * scale)\n",
    "    msg = \"F-Stat pvalue: \" + str(round( model2.f_pvalue , 3 )) + \"\\n\" + \"R Square: \" + str(round( model2.rsquared , 3 ))\n",
    "    boxp.text(0.75, 27, msg, horizontalalignment = 'left', color='black', fontsize = dict_font[\"font_txt\"] * scale)\n",
    "\n",
    "    leg = plt.legend(title = 'Transmission', loc = 'upper right', \n",
    "                     labels = ['Non Substansial', 'Substantial'])\n",
    "    # leg.legendHandles[0].set_color('orange')\n",
    "    # leg.legendHandles[1].set_color('blue')\n",
    "    leg.remove() \n",
    "    plt.xticks(ticks = [0, 1], labels = [\"Non Substantial\", \"Substantial\"], fontsize = dict_font[\"font_xy\"] * scale)\n",
    "    plt.xlabel(\"\")\n",
    "\n",
    "    plt.subplot(1, 2, 2)\n",
    "    stp = sns.stripplot(x = \"Substantial\", y = \"TempCels\", hue = \"Substantial\",\n",
    "                   data = new_df, palette = \"muted\")\n",
    "    stp.set(xlabel ='Substantial Transmission',  ylabel = 'Temperature', \n",
    "             title = \"Temperature and Substantial Transmision\")\n",
    "\n",
    "    msg = \"F-Stat pvalue: \" + str(round( model2.f_pvalue , 3 )) + \"\\n\" + \"R Square: \" + str(round( model2.rsquared , 3 ))\n",
    "    #stp.text(0.75, 20, msg, horizontalalignment='left', size='medium', color='black', fontsize = font_txt * scale,\n",
    "    #         fontstyle = \"italic\", bbox = dict(boxstyle = 'square', facecolor = 'white', alpha = 0.5))\n",
    "\n",
    "    plt.title(\"Temperature and Substantial Transmision\", fontsize = dict_font[\"font_title\"] * scale)\n",
    "    plt.xlabel('Substantial Transmission', fontsize = dict_font[\"font_xy\"] * scale )\n",
    "    plt.ylabel('Temperature', fontsize = dict_font[\"font_xy\"] * scale)\n",
    "    legend = plt.legend(title = 'Transmission', loc = 'upper right', \n",
    "                        labels = ['Non Substansial', 'Substantial'], fontsize = dict_font[\"font_txt\"] * scale)\n",
    "    legend.legendHandles[0]._sizes = [100]\n",
    "    legend.legendHandles[1]._sizes = [100]\n",
    "    \n",
    "    return plt.show()"
   ]
  },
  {
   "cell_type": "markdown",
   "id": "855451af",
   "metadata": {},
   "source": [
    "### Mann-Whitney tests"
   ]
  },
  {
   "cell_type": "code",
   "execution_count": null,
   "id": "fa002fbe",
   "metadata": {},
   "outputs": [],
   "source": [
    "def mw(var, sub_df, nonsub_df, opts, dict_font, scale = 0.8):\n",
    "    if var not in opts[\"Var\"].to_list():\n",
    "        print(\"Please insert one var in: \", ', '.join(opts[\"Var\"].to_list()))\n",
    "    else:\n",
    "        df_nonpar = pd.DataFrame({\n",
    "                \"test\" : [\"Shapiro Substantial\", \"Shapiro Non Substantial\", \"Mann-Whitney\"],\n",
    "                \"pvalue\" : [stats.shapiro(sub_df[var])[1], # second element is p-value\n",
    "                            stats.shapiro(nonsub_df[var])[1],\n",
    "                            stats.mannwhitneyu(x = sub_df[var], y = nonsub_df[var], \n",
    "                                                          alternative = 'two-sided')[1]] })\n",
    "        # print(df_nonpar)\n",
    "\n",
    "        colors = list(Color(\"red\").range_to(Color(\"green\"),100))\n",
    "        colors = [str(col) for col in colors]\n",
    "\n",
    "        pval1 = df_nonpar[\"pvalue\"].loc[df_nonpar[\"test\"] == \"Shapiro Substantial\"]\n",
    "        pval2 = df_nonpar[\"pvalue\"].loc[df_nonpar[\"test\"] == \"Shapiro Non Substantial\"]\n",
    "        col1 = colors[int(pval1*100)]\n",
    "        col2 = colors[int(pval2*100)]\n",
    "\n",
    "        mu1, std1 = stats.norm.fit(np.array(sub_df[var]))\n",
    "        mu2, std2 = stats.norm.fit(np.array(nonsub_df[var]))\n",
    "\n",
    "        #plt.rcParams['figure.dpi'] = dict_font[\"fig_dpi\"]\n",
    "        #plt.rcParams['figure.figsize'] = np.array(dict_font[\"fig_size\"])*[1.1,0.8]\n",
    "        fig, (ax1, ax2) = plt.subplots(1, 2)\n",
    "\n",
    "        my_lab = opts[\"Label\"].loc[opts[\"Var\"] == var].to_list()[0]\n",
    "        fig.suptitle('Frequency histogram of ' + my_lab, fontsize = dict_font[\"font_title\"], color = \"black\")\n",
    "        ax1.hist(sub_df[var], bins = len(sub_df[var]), histtype = 'bar', edgecolor = 'black',\n",
    "        color = col1, density = True)\n",
    "        ax2.hist(nonsub_df[var], bins = 20, histtype='bar', edgecolor = 'black', color = col2, density = True)\n",
    "\n",
    "        xmin1, xmax1 = np.amin(np.array(sub_df[var])), np.amax(np.array(sub_df[var]))\n",
    "        x_vec1 = np.linspace(xmin1, xmax1, 250)\n",
    "        probs1 = stats.norm.pdf(x_vec1, mu1, std1)\n",
    "        xmin2, xmax2 = np.amin(np.array(nonsub_df[var])), np.amax(np.array(nonsub_df[var]))\n",
    "        x_vec2 = np.linspace(xmin2, xmax2, 250)\n",
    "        probs2 = stats.norm.pdf(x_vec2, mu2, std2)\n",
    "        ax1.plot(x_vec1, probs1, linewidth = 2, c = \"blue\", linestyle='dashed')\n",
    "        ax2.plot(x_vec2, probs2, linewidth = 2, c = \"blue\", linestyle='dashed')\n",
    "\n",
    "        my_lab2 = my_lab + \" (\" + opts[\"Unit\"].loc[opts[\"Var\"] == var].to_list()[0] + \")\"\n",
    "        ax1.set_xlabel(my_lab2, fontsize = dict_font[\"font_xy\"])\n",
    "        ax2.set_xlabel(my_lab2, fontsize = dict_font[\"font_xy\"])\n",
    "        ax1.set_title('Substantial Transmission', fontsize = dict_font[\"font_title\"] * scale)\n",
    "        ax2.set_title('Non-Substantial Transmission', fontsize = dict_font[\"font_title\"] * scale)\n",
    "        ax1.tick_params(axis = \"both\", labelsize = dict_font[\"font_xy\"] * scale)\n",
    "        ax2.tick_params(axis = \"both\", labelsize = dict_font[\"font_xy\"] * scale)\n",
    "\n",
    "        return df_nonpar, plt.show()"
   ]
  },
  {
   "cell_type": "markdown",
   "id": "542fab19",
   "metadata": {},
   "source": [
    "The daframe <i>df_nonpar</i> contains result of non parametric tests: Shapiro and Mann-Whitney.\n",
    "\n",
    "Colors of histogram reflects the Shapiro's p-value."
   ]
  },
  {
   "cell_type": "markdown",
   "id": "04b3ddae",
   "metadata": {},
   "source": [
    "### Scatter plot of Temperature and Relative Humidity "
   ]
  },
  {
   "cell_type": "markdown",
   "id": "d2d367e0",
   "metadata": {},
   "source": [
    "Sizes are based on quartiles of Cases.\n",
    "\n",
    "Color is based on Substantial's value."
   ]
  },
  {
   "cell_type": "code",
   "execution_count": 7,
   "id": "90c10b5a",
   "metadata": {},
   "outputs": [],
   "source": [
    "def scatter_temperature_relhum(new_df, dict_font, scale = 0.9):\n",
    "    x = new_df[\"TempCels\"].copy()\n",
    "    x = np.array(x).reshape((-1,1))\n",
    "    y = new_df[\"RelHum\"].copy() \n",
    "    y = np.array(y).reshape((-1,1))\n",
    "\n",
    "    msg = \"The dimension of scatter point represent the quartile of cases in which lies the observation. \\nNote that all countries with more than 10 deaths lies in fourth quartile.\"\n",
    "    print(msg)\n",
    "\n",
    "    plt.rcParams['figure.dpi'] = dict_font[\"fig_dpi\"]\n",
    "    plt.rcParams['figure.figsize'] = np.array(dict_font[\"fig_size\"])*[1.1,0.8]\n",
    "\n",
    "    fig, ax = plt.subplots()\n",
    "    sct1 = plt.scatter( x[new_df[\"Substantial\"]==1], y[new_df[\"Substantial\"]==1],\n",
    "                        s = new_df[\"Size\"].loc[new_df[\"Substantial\"]==1], linewidth = 2,\n",
    "    label = \"Substantial Transmission\", facecolors = 'None', edgecolor = \"coral\" )\n",
    "    sct2 = plt.scatter( x[new_df[\"Substantial\"]==0], y[new_df[\"Substantial\"]==0],\n",
    "                        s = new_df[\"Size\"].loc[new_df[\"Substantial\"]==0], linewidth = 2,\n",
    "    label = \"Non-Substantial Transmission\", facecolors = 'None', edgecolor = \"tab:cyan\")\n",
    "\n",
    "    legend = ax.legend(loc='lower left', shadow=True, fontsize='medium', prop = {\"size\": dict_font[\"font_xy\"] * scale})\n",
    "    legend.legendHandles[0]._sizes = [200]\n",
    "    legend.legendHandles[1]._sizes = [200]\n",
    "    plt.title('Temperature vs Relative Humidity by groups', fontsize = dict_font[\"font_title\"])\n",
    "    plt.xlabel('Temperature (Celsius)', fontsize = dict_font[\"font_xy\"])\n",
    "    plt.ylabel('Relative Humidyty (%)', fontsize = dict_font[\"font_xy\"])\n",
    "    plt.xticks(fontsize = dict_font[\"font_txt\"] * scale)\n",
    "    plt.yticks(fontsize = dict_font[\"font_txt\"] * scale)\n",
    "    \n",
    "    return plt.show()"
   ]
  },
  {
   "cell_type": "markdown",
   "id": "b3396638",
   "metadata": {},
   "source": [
    "### Scatter plot of Temperature and Specific Humidity"
   ]
  },
  {
   "cell_type": "markdown",
   "id": "a56ba19a",
   "metadata": {},
   "source": [
    "Size are based on orders of magnitudes."
   ]
  },
  {
   "cell_type": "code",
   "execution_count": 8,
   "id": "97f87aa0",
   "metadata": {},
   "outputs": [],
   "source": [
    "def scatter_temperature_spechum(new_df, dict_font, scale = 1, scale_dim = 5):\n",
    "    x = new_df[\"TempCels\"].copy()\n",
    "    x = np.array(x).reshape((-1,1))\n",
    "    y = new_df[\"SpecHum\"].copy()\n",
    "    y = np.array(y).reshape((-1,1))\n",
    "    sizes = new_df[\"Size\"].unique()\n",
    "    colors = list(Color(\"green\").range_to(Color(\"red\"),len(sizes)))\n",
    "    colors = [str(col) for col in colors]\n",
    "    labels = [\"0\", \"1-9\", \"10-99\", \"100-999\", \"1000-9999\", \"10000-99999\"]\n",
    "    fig, ax = plt.subplots()\n",
    "    \n",
    "    for i in range(len(sizes)):\n",
    "        # need to iterate on index to access the color\n",
    "        x1 = x[(new_df[\"Size\"]==sizes[i]) & (new_df[\"Substantial\"]==0)]\n",
    "        y1 = y[(new_df[\"Size\"]==sizes[i]) & (new_df[\"Substantial\"]==0)]\n",
    "        x2 = x[(new_df[\"Size\"]==sizes[i]) & (new_df[\"Substantial\"]==1)]\n",
    "        y2 = y[(new_df[\"Size\"]==sizes[i]) & (new_df[\"Substantial\"]==1)]\n",
    "        sct = plt.scatter( x1, y1,\n",
    "            s = scale_dim * np.array(new_df[\"Size\"][(new_df[\"Size\"]==sizes[i]) & (new_df[\"Substantial\"]==0)]),\n",
    "            linewidth = 1, label = labels[i], facecolors = 'None', edgecolor = colors[i], marker = \"o\")\n",
    "        sct = plt.scatter( x2, y2,\n",
    "            s = scale_dim * np.array(new_df[\"Size\"][(new_df[\"Size\"]==sizes[i]) & (new_df[\"Substantial\"]==1)]),\n",
    "            linewidth = 2, facecolors = 'None', edgecolor = colors[i], marker = \"s\")\n",
    "    \n",
    "    legend = ax.legend(loc ='upper left', shadow = False, fontsize = 'medium', \n",
    "                       prop = {\"size\": dict_font[\"font_xy\"] * scale})\n",
    "    legend.set_title(title = 'Covid-19 Cases', prop = {'size': dict_font[\"font_title\"] * scale})\n",
    "    \n",
    "    for i in range(len(sizes)):\n",
    "        legend.legendHandles[i]._sizes = [(i+1)*50]\n",
    "        \n",
    "    plt.rcParams['figure.dpi'] = dict_font[\"fig_dpi\"]\n",
    "    plt.rcParams['figure.figsize'] = dict_font[\"fig_size\"]\n",
    "    plt.title('Temperature vs Specific Humidity scatter-plot', fontsize = dict_font[\"font_title\"])\n",
    "    plt.xlabel('Temperature (Celsius)', fontsize = dict_font[\"font_xy\"])\n",
    "    plt.ylabel('Mean Specific Humidity', fontsize = dict_font[\"font_xy\"])\n",
    "    plt.xticks(fontsize = dict_font[\"font_txt\"])\n",
    "    plt.yticks(fontsize = dict_font[\"font_txt\"])\n",
    "    #plt.text(4, 0.17, \"Square points mean substantial \\ntransmission (i.e. deaths >= 10)\", fontsize = dict_font[\"font_txt\"], alpha = 0.75, c = \"steelblue\")\n",
    "    plt.text(0.2, 0.17, \"□: substantial transmission \\nO: non-substantial\", fontsize = dict_font[\"font_txt\"], alpha = 0.95, c = \"black\")\n",
    "    return plt.show()\n"
   ]
  },
  {
   "cell_type": "markdown",
   "id": "4bce75e5",
   "metadata": {},
   "source": [
    "### World Map Creation"
   ]
  },
  {
   "cell_type": "markdown",
   "id": "f0888922",
   "metadata": {},
   "source": [
    "The <i>folium</i> library is used. \n",
    "\n",
    "For each city with substantial transmission, a pointer is defined with size and color depending on cases and temperatures."
   ]
  },
  {
   "cell_type": "code",
   "execution_count": 9,
   "id": "dfcb1eae",
   "metadata": {},
   "outputs": [],
   "source": [
    "def create_world(geo_info, new_df):\n",
    "    data_world = pd.merge(geo_info[[\"lat\",\"lon\",\"City\"]], new_df[[\"City\",\"TempCels\", \"Death\", \"Substantial\"]], \n",
    "                      on = [\"City\"], how = \"inner\")\n",
    "    data_world = data_world[data_world[\"Substantial\"] == 1]\n",
    "    data_world = data_world.rename( columns = { \"lat\" : \"Lat\", \"lon\": \"Lon\"} )\n",
    "\n",
    "    data_world[\"Lat\"] = pd.to_numeric(data_world[\"Lat\"])\n",
    "    data_world[\"Lon\"] = pd.to_numeric(data_world[\"Lon\"])\n",
    "    data_world[\"Death\"] = pd.to_numeric(data_world[\"Death\"])\n",
    "    data_world[\"Death\"] = (data_world[\"Death\"]) * 2000 # adjusts radius of the bubble\n",
    "\n",
    "    data_world = data_world.sort_values(by = [\"TempCels\"], ascending = True)\n",
    "    \n",
    "    colors = list(Color(\"blue\").range_to(Color(\"red\"), len(data_world[\"City\"])))\n",
    "    colors = [str(col) for col in colors]\n",
    "    world_map = folium.Map(location = [30,0], zoom_start = 1.3) \n",
    "\n",
    "    for i in range(data_world.shape[0]):\n",
    "       folium.Circle(\n",
    "         location = [data_world.iloc[i]['Lat'], data_world.iloc[i]['Lon']],\n",
    "         popup = data_world.iloc[i]['City'],\n",
    "         radius = float(data_world.iloc[i]['Death']), # need a number, not a dataframe\n",
    "         color = colors[i],\n",
    "         fill = True,\n",
    "         fill_color = colors[i] ).add_to(world_map)\n",
    "       folium.Marker(location = [data_world.iloc[i]['Lat'], data_world.iloc[i]['Lon']], \n",
    "                     popup = data_world.iloc[i]['City']).add_to(world_map) \n",
    "\n",
    "    return world_map"
   ]
  }
 ],
 "metadata": {
  "kernelspec": {
   "display_name": "Python 3 (ipykernel)",
   "language": "python",
   "name": "python3"
  },
  "language_info": {
   "codemirror_mode": {
    "name": "ipython",
    "version": 3
   },
   "file_extension": ".py",
   "mimetype": "text/x-python",
   "name": "python",
   "nbconvert_exporter": "python",
   "pygments_lexer": "ipython3",
   "version": "3.9.7"
  }
 },
 "nbformat": 4,
 "nbformat_minor": 5
}
