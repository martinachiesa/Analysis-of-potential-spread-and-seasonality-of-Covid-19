{
 "cells": [
  {
   "cell_type": "markdown",
   "id": "a52955c9",
   "metadata": {},
   "source": [
    "<h2><center> MACHINE LEARNING PROJECT - N. 6 </center></h2>"
   ]
  },
  {
   "cell_type": "markdown",
   "id": "2b3ea9e8",
   "metadata": {},
   "source": [
    "## Libraries"
   ]
  },
  {
   "cell_type": "markdown",
   "id": "f60bb950",
   "metadata": {},
   "source": [
    "This short notebook contains the libraries used in the analysis."
   ]
  },
  {
   "cell_type": "code",
   "execution_count": 1,
   "id": "61d057fd",
   "metadata": {},
   "outputs": [],
   "source": [
    "import pandas as pd\n",
    "import numpy as np\n",
    "import matplotlib.pyplot as plt\n",
    "import statsmodels.api as sm\n",
    "import seaborn as sns\n",
    "import scipy.stats as stats\n",
    "import datetime \n",
    "import imblearn\n",
    "import folium\n",
    "import itertools\n",
    "import time\n",
    "\n",
    "from sklearn import tree, metrics\n",
    "from sklearn.model_selection import train_test_split\n",
    "from sklearn.datasets import make_blobs\n",
    "from sklearn.cluster import KMeans\n",
    "from sklearn.preprocessing import StandardScaler, scale\n",
    "from sklearn.linear_model import LinearRegression, Ridge, RidgeCV, Lasso, LassoCV\n",
    "from sklearn.datasets import make_classification\n",
    "\n",
    "from imblearn.over_sampling import SMOTE, RandomOverSampler\n",
    "from imblearn.under_sampling import RandomUnderSampler\n",
    "from colour import Color\n",
    "from collections import Counter\n",
    "from kneed import KneeLocator"
   ]
  }
 ],
 "metadata": {
  "kernelspec": {
   "display_name": "Python 3 (ipykernel)",
   "language": "python",
   "name": "python3"
  },
  "language_info": {
   "codemirror_mode": {
    "name": "ipython",
    "version": 3
   },
   "file_extension": ".py",
   "mimetype": "text/x-python",
   "name": "python",
   "nbconvert_exporter": "python",
   "pygments_lexer": "ipython3",
   "version": "3.9.7"
  }
 },
 "nbformat": 4,
 "nbformat_minor": 5
}
